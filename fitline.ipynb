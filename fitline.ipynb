{
 "cells": [
  {
   "cell_type": "code",
   "execution_count": 43,
   "metadata": {
    "collapsed": false
   },
   "outputs": [
    {
     "name": "stdout",
     "output_type": "stream",
     "text": [
      "[-54.21746826] [-0.94627339]\n"
     ]
    },
    {
     "data": {
      "text/plain": [
       "<matplotlib.image.AxesImage at 0x7ffabc317908>"
      ]
     },
     "execution_count": 43,
     "metadata": {},
     "output_type": "execute_result"
    },
    {
     "data": {
      "image/png": "[encoded data removed]",
      "text/plain": [
       "<matplotlib.figure.Figure at 0x7ffabfc7fbe0>"
      ]
     },
     "metadata": {},
     "output_type": "display_data"
    }
   ],
   "source": [
    "import cv2\n",
    "import numpy as np\n",
    "%matplotlib inline\n",
    "import matplotlib.pyplot as plt\n",
    "\n",
    "cnt = np.array([[20,20],\n",
    "                [30,20],\n",
    "                [10,50],\n",
    "                [0,50]])\n",
    "\n",
    "vx,vy, _, _ = cv2.fitLine(cnt,cv2.DIST_L2,0,0.01,0.01)\n",
    "\n",
    "\n",
    "canvas = np.zeros([100,100,1])\n",
    "cv2.drawContours(canvas,[cnt],-1,255,-1)\n",
    "\n",
    "angle = np.degrees(np.arcsin(vy))\n",
    "print(angle,np.arcsin(vy))\n",
    "plt.imshow(np.rot90(canvas[...,0].T))"
   ]
  },
  {
   "cell_type": "code",
   "execution_count": 44,
   "metadata": {},
   "outputs": [
    {
     "name": "stdout",
     "output_type": "stream",
     "text": [
      "[ 90.] [ 1.57079637]\n"
     ]
    },
    {
     "data": {
      "text/plain": [
       "<matplotlib.image.AxesImage at 0x7ffabc27d8d0>"
      ]
     },
     "execution_count": 44,
     "metadata": {},
     "output_type": "execute_result"
    },
    {
     "data": {
      "image/png": "[encoded data removed]",
      "text/plain": [
       "<matplotlib.figure.Figure at 0x7ffabfc7f400>"
      ]
     },
     "metadata": {},
     "output_type": "display_data"
    }
   ],
   "source": [
    "cnt = np.array([[20,20],\n",
    "                [30,20],\n",
    "                [30,50],\n",
    "                [20,50]])\n",
    "\n",
    "vx,vy, _, _ = cv2.fitLine(cnt,cv2.DIST_L2,0,0.01,0.01)\n",
    "\n",
    "\n",
    "canvas = np.zeros([100,100,1])\n",
    "cv2.drawContours(canvas,[cnt],-1,255,-1)\n",
    "\n",
    "angle = np.degrees(np.arcsin(vy))\n",
    "print(angle,np.arcsin(vy))\n",
    "plt.imshow(np.rot90(canvas[...,0].T))"
   ]
  },
  {
   "cell_type": "code",
   "execution_count": 46,
   "metadata": {},
   "outputs": [
    {
     "name": "stdout",
     "output_type": "stream",
     "text": [
      "[ 31.71747398] [ 0.55357438]\n"
     ]
    },
    {
     "data": {
      "text/plain": [
       "<matplotlib.image.AxesImage at 0x7ffabc1cc7b8>"
      ]
     },
     "execution_count": 46,
     "metadata": {},
     "output_type": "execute_result"
    },
    {
     "data": {
      "image/png": "[encoded data removed]",
      "text/plain": [
       "<matplotlib.figure.Figure at 0x7ffabc335b38>"
      ]
     },
     "metadata": {},
     "output_type": "display_data"
    }
   ],
   "source": [
    "cnt = np.array([[20,20],\n",
    "                [30,30],\n",
    "                [40,30],\n",
    "                [30,20]])\n",
    "\n",
    "vx,vy, _, _ = cv2.fitLine(cnt,cv2.DIST_L2,0,0.01,0.01)\n",
    "\n",
    "\n",
    "canvas = np.zeros([100,100,1])\n",
    "cv2.drawContours(canvas,[cnt],-1,255,-1)\n",
    "\n",
    "angle = np.degrees(np.arcsin(vy))\n",
    "print(angle,np.arcsin(vy))\n",
    "plt.imshow(np.rot90(canvas[...,0].T))"
   ]
  },
  {
   "cell_type": "code",
   "execution_count": 48,
   "metadata": {},
   "outputs": [
    {
     "name": "stdout",
     "output_type": "stream",
     "text": [
      "[ 0.] [ 0.]\n"
     ]
    },
    {
     "data": {
      "text/plain": [
       "<matplotlib.image.AxesImage at 0x7ffabc1186d8>"
      ]
     },
     "execution_count": 48,
     "metadata": {},
     "output_type": "execute_result"
    },
    {
     "data": {
      "image/png": "[encoded data removed]",
      "text/plain": [
       "<matplotlib.figure.Figure at 0x7ffabc180240>"
      ]
     },
     "metadata": {},
     "output_type": "display_data"
    }
   ],
   "source": [
    "cnt = np.array([[20,20],\n",
    "                [20,30],\n",
    "                [40,30],\n",
    "                [40,20]])\n",
    "\n",
    "vx,vy, _, _ = cv2.fitLine(cnt,cv2.DIST_L2,0,0.01,0.01)\n",
    "\n",
    "\n",
    "canvas = np.zeros([100,100,1])\n",
    "cv2.drawContours(canvas,[cnt],-1,255,-1)\n",
    "\n",
    "angle = np.degrees(np.arcsin(vy))\n",
    "print(angle,np.arcsin(vy))\n",
    "plt.imshow(np.rot90(canvas[...,0].T))"
   ]
  },
  {
   "cell_type": "code",
   "execution_count": 50,
   "metadata": {},
   "outputs": [
    {
     "name": "stdout",
     "output_type": "stream",
     "text": [
      "[ 90.] [ 1.57079637]\n"
     ]
    },
    {
     "data": {
      "text/plain": [
       "<matplotlib.image.AxesImage at 0x7ffabc063630>"
      ]
     },
     "execution_count": 50,
     "metadata": {},
     "output_type": "execute_result"
    },
    {
     "data": {
      "image/png": "[encoded data removed]",
      "text/plain": [
       "<matplotlib.figure.Figure at 0x7ffabc268160>"
      ]
     },
     "metadata": {},
     "output_type": "display_data"
    }
   ],
   "source": [
    "cnt = np.array([[20,20],\n",
    "                [20,40],\n",
    "                [30,40],\n",
    "                [30,20]])\n",
    "\n",
    "vx,vy, _, _ = cv2.fitLine(cnt,cv2.DIST_L2,0,0.01,0.01)\n",
    "\n",
    "\n",
    "canvas = np.zeros([100,100,1])\n",
    "cv2.drawContours(canvas,[cnt],-1,255,-1)\n",
    "\n",
    "angle = np.degrees(np.arcsin(vy))\n",
    "print(angle,np.arcsin(vy))\n",
    "plt.imshow(np.rot90(canvas[...,0].T))"
   ]
  },
  {
   "cell_type": "code",
   "execution_count": 64,
   "metadata": {},
   "outputs": [
    {
     "name": "stdout",
     "output_type": "stream",
     "text": [
      "radians 0.0 Deg 0 90\n"
     ]
    },
    {
     "data": {
      "text/plain": [
       "<matplotlib.image.AxesImage at 0x7ffabba71048>"
      ]
     },
     "execution_count": 64,
     "metadata": {},
     "output_type": "execute_result"
    },
    {
     "data": {
      "image/png": "[encoded data removed]",
      "text/plain": [
       "<matplotlib.figure.Figure at 0x7ffabbb14d30>"
      ]
     },
     "metadata": {},
     "output_type": "display_data"
    }
   ],
   "source": [
    "canvas = np.zeros([100,100,1])\n",
    "rect = (50,50),(30,20),0\n",
    "print(\"radians\",np.radians(rect[-1]),\"Deg\",rect[-1], (rect[-1] + 90) % 180)\n",
    "box = cv2.boxPoints(rect)\n",
    "box = np.int0(box)\n",
    "cv2.drawContours(canvas,[box],0,255,2)\n",
    "plt.imshow(np.rot90(canvas[...,0].T))"
   ]
  },
  {
   "cell_type": "code",
   "execution_count": 95,
   "metadata": {},
   "outputs": [
    {
     "name": "stdout",
     "output_type": "stream",
     "text": [
      "0\n0\n0\n0\n0\n0\n0\n0\n0\n0\n0\n0\n0\n0\n0\n0\n0\n0\n0\n0\n0\n0\n0\n1\n1\n1\n1\n1\n1\n1\n1\n1\n1\n1\n1\n1\n1\n1\n1\n1\n1\n1\n1\n1\n1\n2\n2\n2\n2\n2\n2\n2\n2\n2\n2\n2\n2\n2\n2\n2\n2\n2\n2\n2\n2\n2\n2\n2\n3\n3\n3\n3\n3\n3\n3\n3\n3\n3\n3\n3\n3\n3\n3\n3\n3\n3\n3\n3\n3\n3\n4\n4\n4\n4\n4\n4\n4\n4\n4\n4\n4\n4\n4\n4\n4\n4\n4\n4\n4\n4\n4\n4\n4\n5\n5\n5\n5\n5\n5\n5\n5\n5\n5\n5\n5\n5\n5\n5\n5\n5\n5\n5\n5\n5\n5\n6\n6\n6\n6\n6\n6\n6\n6\n6\n6\n6\n6\n6\n6\n6\n6\n6\n6\n6\n6\n6\n6\n6\n7\n7\n7\n7\n7\n7\n7\n7\n7\n7\n7\n7\n7\n7\n7\n7\n7\n7\n7\n7\n7\n7\n"
     ]
    },
    {
     "data": {
      "text/plain": [
       "<matplotlib.image.AxesImage at 0x7ffabb05a828>"
      ]
     },
     "execution_count": 95,
     "metadata": {},
     "output_type": "execute_result"
    },
    {
     "data": {
      "image/png": "[encoded data removed]",
      "text/plain": [
       "<matplotlib.figure.Figure at 0x7ffabb0917f0>"
      ]
     },
     "metadata": {},
     "output_type": "display_data"
    }
   ],
   "source": [
    "canvas = np.zeros([100,100,3])\n",
    "colors = [[255,255,0],\n",
    "          [0,255,0],\n",
    "          [0,0,255],\n",
    "          [128,0,128],\n",
    "          [0,128,0],\n",
    "          [0,128,128],\n",
    "          [128,0,0],\n",
    "          [128,128,0]]\n",
    "for angle in range(-90,90,1):\n",
    "    vx = -np.sign(angle)*np.cos(np.radians(angle))\n",
    "    vy = -np.sign(angle)*np.sin(np.radians(angle))\n",
    "    cls = int(((angle + 90) % 180) // (180/8))\n",
    "    print(cls)\n",
    "    cv2.line(canvas,(50,50),(50+int(vx*50),50+int(vy*50)),colors[cls%3 + 3],1)\n",
    "    \n",
    "plt.imshow(canvas)"
   ]
  }
 ],
 "metadata": {
  "kernelspec": {
   "display_name": "Python 2",
   "language": "python",
   "name": "python2"
  },
  "language_info": {
   "codemirror_mode": {
    "name": "ipython",
    "version": 2.0
   },
   "file_extension": ".py",
   "mimetype": "text/x-python",
   "name": "python",
   "nbconvert_exporter": "python",
   "pygments_lexer": "ipython2",
   "version": "2.7.6"
  }
 },
 "nbformat": 4,
 "nbformat_minor": 0
}