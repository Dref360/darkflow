{
 "cells": [
  {
   "cell_type": "code",
   "execution_count": null,
   "metadata": {
    "collapsed": true
   },
   "outputs": [],
   "source": [
    "import os\n",
    "import json\n",
    "%matplotlib inline\n",
    "import matplotlib.pyplot as plt\n",
    "import numpy as np\n",
    "import cv2\n",
    "pjoin = os.path.join\n",
    "path=\"/data/mio_tcd_seg/out/\"\n",
    "\n",
    "for k in os.listdir(path):\n",
    "    pt = pjoin(path,k)\n",
    "    img_pt = pjoin('/data/mio_tcd_seg/images',k[:-4]+'jpg')\n",
    "    #print(img_pt)\n",
    "    img = cv2.cvtColor(cv2.imread(img_pt),cv2.COLOR_BGR2RGB)\n",
    "    boxes = json.load(open(pt))\n",
    "    if len(boxes) == 0:\n",
    "        continue\n",
    "    for box in boxes:\n",
    "        lbl = box['label']\n",
    "        conf = box['confidence']\n",
    "        bt_r = box['bottomright']\n",
    "        t_l = box['topleft']\n",
    "        angle = box['angle']\n",
    "        x1,y1,x2,y2 = (t_l['x'],t_l['y'],bt_r['x'],bt_r['y'])\n",
    "        cx = (t_l['x'] + bt_r['x']) //2\n",
    "        cy = (t_l['y'] + bt_r['y']) //2\n",
    "        w = x2 - x1\n",
    "        h = y2-y1\n",
    "    \n",
    "        \n",
    "        cv2.arrowedLine(img,(cx,cy),(int(cx+np.cos(angle)*50),int(cy+np.sin(angle)*50)),(255,0,0),2)\n",
    "        cv2.rectangle(img,(t_l['x'],t_l['y']),(bt_r['x'],bt_r['y']),(0,255,0),1)\n",
    "        \n",
    "        \n",
    "    cv2.imshow('machin',img)\n",
    "    cv2.waitKey(2000)"
   ]
  },
  {
   "cell_type": "code",
   "execution_count": 1,
   "metadata": {},
   "outputs": [
    {
     "ename": "NameError",
     "evalue": "name 'os' is not defined",
     "traceback": [
      "\u001b[0;31m---------------------------------------------------------------------------\u001b[0m",
      "\u001b[0;31mNameError\u001b[0m                                 Traceback (most recent call last)",
      "\u001b[0;32m<ipython-input-1-9dab7699fc84>\u001b[0m in \u001b[0;36m<module>\u001b[0;34m()\u001b[0m\n\u001b[0;32m----> 1\u001b[0;31m \u001b[0mk\u001b[0m \u001b[0;34m=\u001b[0m \u001b[0mos\u001b[0m\u001b[0;34m.\u001b[0m\u001b[0mlistdir\u001b[0m\u001b[0;34m(\u001b[0m\u001b[0mpath\u001b[0m\u001b[0;34m)\u001b[0m\u001b[0;34m[\u001b[0m\u001b[0;36m0\u001b[0m\u001b[0;34m]\u001b[0m\u001b[0;34m\u001b[0m\u001b[0m\n\u001b[0m\u001b[1;32m      2\u001b[0m \u001b[0mpt\u001b[0m \u001b[0;34m=\u001b[0m \u001b[0mpjoin\u001b[0m\u001b[0;34m(\u001b[0m\u001b[0mpath\u001b[0m\u001b[0;34m,\u001b[0m\u001b[0mk\u001b[0m\u001b[0;34m)\u001b[0m\u001b[0;34m\u001b[0m\u001b[0m\n\u001b[1;32m      3\u001b[0m \u001b[0mimg_pt\u001b[0m \u001b[0;34m=\u001b[0m \u001b[0mpjoin\u001b[0m\u001b[0;34m(\u001b[0m\u001b[0;34m'/data/mio_tcd_seg/images'\u001b[0m\u001b[0;34m,\u001b[0m\u001b[0mk\u001b[0m\u001b[0;34m[\u001b[0m\u001b[0;34m:\u001b[0m\u001b[0;34m-\u001b[0m\u001b[0;36m4\u001b[0m\u001b[0;34m]\u001b[0m\u001b[0;34m+\u001b[0m\u001b[0;34m'jpg'\u001b[0m\u001b[0;34m)\u001b[0m\u001b[0;34m\u001b[0m\u001b[0m\n\u001b[1;32m      4\u001b[0m \u001b[0mprint\u001b[0m\u001b[0;34m(\u001b[0m\u001b[0mimg_pt\u001b[0m\u001b[0;34m)\u001b[0m\u001b[0;34m\u001b[0m\u001b[0m\n\u001b[1;32m      5\u001b[0m \u001b[0mimg\u001b[0m \u001b[0;34m=\u001b[0m \u001b[0mcv2\u001b[0m\u001b[0;34m.\u001b[0m\u001b[0mcvtColor\u001b[0m\u001b[0;34m(\u001b[0m\u001b[0mcv2\u001b[0m\u001b[0;34m.\u001b[0m\u001b[0mimread\u001b[0m\u001b[0;34m(\u001b[0m\u001b[0mimg_pt\u001b[0m\u001b[0;34m)\u001b[0m\u001b[0;34m,\u001b[0m\u001b[0mcv2\u001b[0m\u001b[0;34m.\u001b[0m\u001b[0mCOLOR_BGR2RGB\u001b[0m\u001b[0;34m)\u001b[0m\u001b[0;34m\u001b[0m\u001b[0m\n",
      "\u001b[0;31mNameError\u001b[0m: name 'os' is not defined"
     ],
     "output_type": "error"
    }
   ],
   "source": [
    "k = os.listdir(path)[0]\n",
    "pt = pjoin(path,k)\n",
    "img_pt = pjoin('/data/mio_tcd_seg/images',k[:-4]+'jpg')\n",
    "print(img_pt)\n",
    "img = cv2.cvtColor(cv2.imread(img_pt),cv2.COLOR_BGR2RGB)\n",
    "boxes = json.load(open(pt))\n",
    "if len(boxes) == 0:\n",
    "    raise Exception\n",
    "for box in boxes:\n",
    "    lbl = box['label']\n",
    "    conf = box['confidence']\n",
    "    bt_r = box['bottomright']\n",
    "    t_l = box['topleft']\n",
    "    angle = box['angle']\n",
    "    x1,y1,x2,y2 = (t_l['x'],t_l['y'],bt_r['x'],bt_r['y'])\n",
    "    cx = (t_l['x'] + bt_r['x']) //2\n",
    "    cy = (t_l['y'] + bt_r['y']) //2\n",
    "    w = x2 - x1\n",
    "    h = y2-y1\n",
    "    \n",
    "    \"\"\"#x1,y1 = x1-cx, y1-cy\n",
    "    #x2,y2 = x2-cx, y2-cy\n",
    "    print(\"CX,CY\",cx,cy)\n",
    "    \n",
    "    M_inv = cv2.getRotationMatrix2D((cx,cy),np.degrees(angle),1)\n",
    "    points = np.array([[x1,y1],[x2,y2]])\n",
    "    ones = np.ones(shape=(len(points), 1))\n",
    "    points_ones = np.hstack([points, ones])\n",
    "    transformed_points = M_inv.dot(points_ones.T).T\n",
    "    print(transformed_points.shape)\n",
    "    \n",
    "    [x1,y1],[x2,y2] = transformed_points\n",
    "    print(transformed_points)\"\"\"\n",
    "    \n",
    "    cv2.line(img,(cx,cy),(int(cx+np.cos((angle))*20),int(cy+np.sin((angle))*20)),(255,0,0),1)\n",
    "    cv2.rectangle(img,(t_l['x'],t_l['y']),(bt_r['x'],bt_r['y']),(0,255,0),1)\n",
    "    \n",
    "    rect = ((cx,cy),(w,h),(angle))\n",
    "    box1 = cv2.boxPoints(rect) \n",
    "    box1 = np.int0(box1)\n",
    "    cv2.drawContours(img,[box1],0,(0,0,255),2)\n",
    "    \n",
    "    \n",
    "plt.imshow(img)"
   ]
  },
  {
   "cell_type": "code",
   "execution_count": null,
   "metadata": {},
   "outputs": [],
   "source": [
    ""
   ]
  }
 ],
 "metadata": {
  "kernelspec": {
   "display_name": "Python 2",
   "language": "python",
   "name": "python2"
  },
  "language_info": {
   "codemirror_mode": {
    "name": "ipython",
    "version": 2
   },
   "file_extension": ".py",
   "mimetype": "text/x-python",
   "name": "python",
   "nbconvert_exporter": "python",
   "pygments_lexer": "ipython2",
   "version": "2.7.6"
  }
 },
 "nbformat": 4,
 "nbformat_minor": 0
}
