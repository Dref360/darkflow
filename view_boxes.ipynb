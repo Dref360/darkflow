{
 "cells": [
  {
   "cell_type": "code",
   "execution_count": 14,
   "metadata": {
    "collapsed": true
   },
   "outputs": [
    {
     "name": "stdout",
     "output_type": "stream",
     "text": [
      "/data/mio_tcd_seg/images/00086465.jpg\nShow (480, 720, 3)\n"
     ]
    },
    {
     "name": "stdout",
     "output_type": "stream",
     "text": [
      "/data/mio_tcd_seg/images/00042075.jpg\nShow (480, 720, 3)\n"
     ]
    },
    {
     "name": "stdout",
     "output_type": "stream",
     "text": [
      "/data/mio_tcd_seg/images/00016447.jpg\nShow (480, 720, 3)\n"
     ]
    },
    {
     "name": "stdout",
     "output_type": "stream",
     "text": [
      "/data/mio_tcd_seg/images/00057151.jpg\nShow (480, 720, 3)\n"
     ]
    },
    {
     "name": "stdout",
     "output_type": "stream",
     "text": [
      "/data/mio_tcd_seg/images/00026167.jpg\nShow (480, 720, 3)\n"
     ]
    },
    {
     "name": "stdout",
     "output_type": "stream",
     "text": [
      "/data/mio_tcd_seg/images/00104101.jpg\nShow (228, 342, 3)\n"
     ]
    },
    {
     "name": "stdout",
     "output_type": "stream",
     "text": [
      "/data/mio_tcd_seg/images/00049554.jpg\nShow (480, 720, 3)\n"
     ]
    },
    {
     "name": "stdout",
     "output_type": "stream",
     "text": [
      "/data/mio_tcd_seg/images/00037776.jpg\nShow (480, 720, 3)\n"
     ]
    },
    {
     "name": "stdout",
     "output_type": "stream",
     "text": [
      "/data/mio_tcd_seg/images/00090051.jpg\nShow (480, 720, 3)\n"
     ]
    },
    {
     "name": "stdout",
     "output_type": "stream",
     "text": [
      "/data/mio_tcd_seg/images/00137055.jpg\nShow (480, 720, 3)\n"
     ]
    },
    {
     "name": "stdout",
     "output_type": "stream",
     "text": [
      "/data/mio_tcd_seg/images/00081677.jpg\nShow (480, 720, 3)\n"
     ]
    },
    {
     "name": "stdout",
     "output_type": "stream",
     "text": [
      "/data/mio_tcd_seg/images/00076428.jpg\nShow (480, 720, 3)\n"
     ]
    },
    {
     "name": "stdout",
     "output_type": "stream",
     "text": [
      "/data/mio_tcd_seg/images/00013012.jpg\nShow (480, 720, 3)\n"
     ]
    },
    {
     "name": "stdout",
     "output_type": "stream",
     "text": [
      "/data/mio_tcd_seg/images/00004582.jpg\nShow (480, 720, 3)\n"
     ]
    },
    {
     "name": "stdout",
     "output_type": "stream",
     "text": [
      "/data/mio_tcd_seg/images/00025836.jpg\nShow (228, 342, 3)\n"
     ]
    },
    {
     "name": "stdout",
     "output_type": "stream",
     "text": [
      "/data/mio_tcd_seg/images/00052395.jpg\nShow (480, 720, 3)\n"
     ]
    },
    {
     "name": "stdout",
     "output_type": "stream",
     "text": [
      "/data/mio_tcd_seg/images/00082497.jpg\nShow (480, 720, 3)\n"
     ]
    },
    {
     "name": "stdout",
     "output_type": "stream",
     "text": [
      "/data/mio_tcd_seg/images/00076345.jpg\nShow (480, 720, 3)\n"
     ]
    },
    {
     "name": "stdout",
     "output_type": "stream",
     "text": [
      "/data/mio_tcd_seg/images/00094037.jpg\nShow (480, 720, 3)\n"
     ]
    },
    {
     "name": "stdout",
     "output_type": "stream",
     "text": [
      "/data/mio_tcd_seg/images/00095627.jpg\nShow (480, 720, 3)\n"
     ]
    },
    {
     "name": "stdout",
     "output_type": "stream",
     "text": [
      "/data/mio_tcd_seg/images/00039513.jpg\nShow (480, 720, 3)\n"
     ]
    },
    {
     "name": "stdout",
     "output_type": "stream",
     "text": [
      "/data/mio_tcd_seg/images/00051824.jpg\nShow (480, 720, 3)\n"
     ]
    },
    {
     "name": "stdout",
     "output_type": "stream",
     "text": [
      "/data/mio_tcd_seg/images/00031746.jpg\nShow (228, 342, 3)\n"
     ]
    },
    {
     "name": "stdout",
     "output_type": "stream",
     "text": [
      "/data/mio_tcd_seg/images/00027374.jpg\nShow (480, 720, 3)\n"
     ]
    },
    {
     "name": "stdout",
     "output_type": "stream",
     "text": [
      "/data/mio_tcd_seg/images/00136001.jpg\nShow (480, 720, 3)\n"
     ]
    },
    {
     "name": "stdout",
     "output_type": "stream",
     "text": [
      "/data/mio_tcd_seg/images/00040749.jpg\nShow (228, 342, 3)\n"
     ]
    },
    {
     "name": "stdout",
     "output_type": "stream",
     "text": [
      "/data/mio_tcd_seg/images/00111634.jpg\nShow (480, 720, 3)\n"
     ]
    },
    {
     "name": "stdout",
     "output_type": "stream",
     "text": [
      "/data/mio_tcd_seg/images/00068539.jpg\nShow (480, 720, 3)\n"
     ]
    },
    {
     "name": "stdout",
     "output_type": "stream",
     "text": [
      "/data/mio_tcd_seg/images/00127864.jpg\nShow (228, 342, 3)\n"
     ]
    },
    {
     "name": "stdout",
     "output_type": "stream",
     "text": [
      "/data/mio_tcd_seg/images/00137194.jpg\nShow (480, 720, 3)\n"
     ]
    },
    {
     "name": "stdout",
     "output_type": "stream",
     "text": [
      "/data/mio_tcd_seg/images/00015070.jpg\nShow (480, 720, 3)\n"
     ]
    },
    {
     "name": "stdout",
     "output_type": "stream",
     "text": [
      "/data/mio_tcd_seg/images/00101557.jpg\nShow (480, 720, 3)\n"
     ]
    },
    {
     "name": "stdout",
     "output_type": "stream",
     "text": [
      "/data/mio_tcd_seg/images/00071726.jpg\nShow (480, 720, 3)\n"
     ]
    },
    {
     "name": "stdout",
     "output_type": "stream",
     "text": [
      "/data/mio_tcd_seg/images/00051271.jpg\nShow (480, 720, 3)\n"
     ]
    },
    {
     "name": "stdout",
     "output_type": "stream",
     "text": [
      "/data/mio_tcd_seg/images/00089697.jpg\nShow (480, 720, 3)\n"
     ]
    },
    {
     "name": "stdout",
     "output_type": "stream",
     "text": [
      "/data/mio_tcd_seg/images/00103345.jpg\nShow (480, 720, 3)\n"
     ]
    },
    {
     "name": "stdout",
     "output_type": "stream",
     "text": [
      "/data/mio_tcd_seg/images/00055488.jpg\nShow (228, 342, 3)\n"
     ]
    },
    {
     "name": "stdout",
     "output_type": "stream",
     "text": [
      "/data/mio_tcd_seg/images/00091594.jpg\nShow (480, 720, 3)\n"
     ]
    },
    {
     "name": "stdout",
     "output_type": "stream",
     "text": [
      "/data/mio_tcd_seg/images/00009769.jpg\nShow (480, 720, 3)\n"
     ]
    },
    {
     "name": "stdout",
     "output_type": "stream",
     "text": [
      "/data/mio_tcd_seg/images/00049695.jpg\nShow (480, 720, 3)\n"
     ]
    },
    {
     "name": "stdout",
     "output_type": "stream",
     "text": [
      "/data/mio_tcd_seg/images/00099944.jpg\nShow (480, 720, 3)\n"
     ]
    },
    {
     "name": "stdout",
     "output_type": "stream",
     "text": [
      "/data/mio_tcd_seg/images/00015337.jpg\nShow (480, 720, 3)\n"
     ]
    },
    {
     "name": "stdout",
     "output_type": "stream",
     "text": [
      "/data/mio_tcd_seg/images/00043342.jpg\nShow (480, 720, 3)\n"
     ]
    },
    {
     "name": "stdout",
     "output_type": "stream",
     "text": [
      "/data/mio_tcd_seg/images/00123855.jpg\nShow (228, 342, 3)\n"
     ]
    },
    {
     "name": "stdout",
     "output_type": "stream",
     "text": [
      "/data/mio_tcd_seg/images/00064457.jpg\nShow (480, 720, 3)\n"
     ]
    },
    {
     "name": "stdout",
     "output_type": "stream",
     "text": [
      "/data/mio_tcd_seg/images/00021705.jpg\nShow (480, 720, 3)\n"
     ]
    },
    {
     "name": "stdout",
     "output_type": "stream",
     "text": [
      "/data/mio_tcd_seg/images/00105697.jpg\nShow (480, 720, 3)\n"
     ]
    },
    {
     "name": "stdout",
     "output_type": "stream",
     "text": [
      "/data/mio_tcd_seg/images/00132943.jpg\nShow (480, 720, 3)\n"
     ]
    },
    {
     "name": "stdout",
     "output_type": "stream",
     "text": [
      "/data/mio_tcd_seg/images/00132965.jpg\nShow (480, 720, 3)\n"
     ]
    },
    {
     "name": "stdout",
     "output_type": "stream",
     "text": [
      "/data/mio_tcd_seg/images/00065767.jpg\nShow (480, 720, 3)\n"
     ]
    },
    {
     "name": "stdout",
     "output_type": "stream",
     "text": [
      "/data/mio_tcd_seg/images/00121277.jpg\nShow (228, 342, 3)\n"
     ]
    },
    {
     "name": "stdout",
     "output_type": "stream",
     "text": [
      "/data/mio_tcd_seg/images/00068800.jpg\nShow (480, 720, 3)\n"
     ]
    },
    {
     "name": "stdout",
     "output_type": "stream",
     "text": [
      "/data/mio_tcd_seg/images/00070728.jpg\nShow (228, 342, 3)\n"
     ]
    },
    {
     "name": "stdout",
     "output_type": "stream",
     "text": [
      "/data/mio_tcd_seg/images/00032867.jpg\nShow (480, 720, 3)\n"
     ]
    },
    {
     "name": "stdout",
     "output_type": "stream",
     "text": [
      "/data/mio_tcd_seg/images/00114165.jpg\nShow (480, 720, 3)\n"
     ]
    },
    {
     "name": "stdout",
     "output_type": "stream",
     "text": [
      "/data/mio_tcd_seg/images/00128725.jpg\nShow (480, 720, 3)\n"
     ]
    },
    {
     "name": "stdout",
     "output_type": "stream",
     "text": [
      "/data/mio_tcd_seg/images/00132023.jpg\nShow (480, 720, 3)\n"
     ]
    },
    {
     "name": "stdout",
     "output_type": "stream",
     "text": [
      "/data/mio_tcd_seg/images/00095322.jpg\nShow (480, 720, 3)\n"
     ]
    },
    {
     "name": "stdout",
     "output_type": "stream",
     "text": [
      "/data/mio_tcd_seg/images/00134136.jpg\nShow (480, 720, 3)\n"
     ]
    },
    {
     "name": "stdout",
     "output_type": "stream",
     "text": [
      "/data/mio_tcd_seg/images/00063019.jpg\nShow (480, 720, 3)\n"
     ]
    },
    {
     "name": "stdout",
     "output_type": "stream",
     "text": [
      "/data/mio_tcd_seg/images/00017607.jpg\nShow (480, 720, 3)\n"
     ]
    },
    {
     "name": "stdout",
     "output_type": "stream",
     "text": [
      "/data/mio_tcd_seg/images/00096438.jpg\nShow (480, 720, 3)\n"
     ]
    },
    {
     "name": "stdout",
     "output_type": "stream",
     "text": [
      "/data/mio_tcd_seg/images/00052761.jpg\n/data/mio_tcd_seg/images/00023475.jpg\nShow (480, 720, 3)\n"
     ]
    },
    {
     "name": "stdout",
     "output_type": "stream",
     "text": [
      "/data/mio_tcd_seg/images/00044181.jpg\nShow (480, 720, 3)\n"
     ]
    },
    {
     "name": "stdout",
     "output_type": "stream",
     "text": [
      "/data/mio_tcd_seg/images/00073788.jpg\nShow (480, 720, 3)\n"
     ]
    },
    {
     "name": "stdout",
     "output_type": "stream",
     "text": [
      "/data/mio_tcd_seg/images/00015752.jpg\nShow (480, 720, 3)\n"
     ]
    },
    {
     "name": "stdout",
     "output_type": "stream",
     "text": [
      "/data/mio_tcd_seg/images/00047035.jpg\nShow (228, 342, 3)\n"
     ]
    },
    {
     "name": "stdout",
     "output_type": "stream",
     "text": [
      "/data/mio_tcd_seg/images/00122508.jpg\nShow (228, 342, 3)\n"
     ]
    },
    {
     "name": "stdout",
     "output_type": "stream",
     "text": [
      "/data/mio_tcd_seg/images/00095202.jpg\nShow (480, 720, 3)\n"
     ]
    },
    {
     "name": "stdout",
     "output_type": "stream",
     "text": [
      "/data/mio_tcd_seg/images/00054171.jpg\nShow (480, 720, 3)\n"
     ]
    },
    {
     "name": "stdout",
     "output_type": "stream",
     "text": [
      "/data/mio_tcd_seg/images/00076891.jpg\nShow (480, 720, 3)\n"
     ]
    },
    {
     "name": "stdout",
     "output_type": "stream",
     "text": [
      "/data/mio_tcd_seg/images/00020690.jpg\nShow (480, 720, 3)\n"
     ]
    },
    {
     "name": "stdout",
     "output_type": "stream",
     "text": [
      "/data/mio_tcd_seg/images/00074505.jpg\nShow (480, 720, 3)\n"
     ]
    },
    {
     "name": "stdout",
     "output_type": "stream",
     "text": [
      "/data/mio_tcd_seg/images/00049853.jpg\nShow (480, 720, 3)\n"
     ]
    },
    {
     "name": "stdout",
     "output_type": "stream",
     "text": [
      "/data/mio_tcd_seg/images/00121042.jpg\nShow (480, 720, 3)\n"
     ]
    },
    {
     "name": "stdout",
     "output_type": "stream",
     "text": [
      "/data/mio_tcd_seg/images/00068591.jpg\nShow (480, 720, 3)\n"
     ]
    },
    {
     "name": "stdout",
     "output_type": "stream",
     "text": [
      "/data/mio_tcd_seg/images/00082318.jpg\nShow (228, 342, 3)\n"
     ]
    },
    {
     "name": "stdout",
     "output_type": "stream",
     "text": [
      "/data/mio_tcd_seg/images/00110626.jpg\nShow (480, 720, 3)\n"
     ]
    },
    {
     "name": "stdout",
     "output_type": "stream",
     "text": [
      "/data/mio_tcd_seg/images/00042141.jpg\nShow (480, 720, 3)\n"
     ]
    },
    {
     "name": "stdout",
     "output_type": "stream",
     "text": [
      "/data/mio_tcd_seg/images/00029396.jpg\nShow (480, 720, 3)\n"
     ]
    },
    {
     "name": "stdout",
     "output_type": "stream",
     "text": [
      "/data/mio_tcd_seg/images/00120655.jpg\nShow (480, 720, 3)\n"
     ]
    },
    {
     "name": "stdout",
     "output_type": "stream",
     "text": [
      "/data/mio_tcd_seg/images/00046643.jpg\nShow (480, 720, 3)\n"
     ]
    },
    {
     "name": "stdout",
     "output_type": "stream",
     "text": [
      "/data/mio_tcd_seg/images/00039534.jpg\n/data/mio_tcd_seg/images/00042426.jpg\nShow (480, 720, 3)\n"
     ]
    },
    {
     "name": "stdout",
     "output_type": "stream",
     "text": [
      "/data/mio_tcd_seg/images/00134688.jpg\nShow (228, 342, 3)\n"
     ]
    },
    {
     "name": "stdout",
     "output_type": "stream",
     "text": [
      "/data/mio_tcd_seg/images/00046189.jpg\nShow (480, 720, 3)\n"
     ]
    },
    {
     "name": "stdout",
     "output_type": "stream",
     "text": [
      "/data/mio_tcd_seg/images/00080250.jpg\nShow (480, 720, 3)\n"
     ]
    },
    {
     "name": "stdout",
     "output_type": "stream",
     "text": [
      "/data/mio_tcd_seg/images/00007641.jpg\nShow (480, 720, 3)\n"
     ]
    },
    {
     "name": "stdout",
     "output_type": "stream",
     "text": [
      "/data/mio_tcd_seg/images/00077311.jpg\nShow (228, 342, 3)\n"
     ]
    },
    {
     "name": "stdout",
     "output_type": "stream",
     "text": [
      "/data/mio_tcd_seg/images/00123825.jpg\nShow (480, 720, 3)\n"
     ]
    },
    {
     "name": "stdout",
     "output_type": "stream",
     "text": [
      "/data/mio_tcd_seg/images/00066703.jpg\nShow (480, 720, 3)\n"
     ]
    },
    {
     "name": "stdout",
     "output_type": "stream",
     "text": [
      "/data/mio_tcd_seg/images/00072544.jpg\nShow (480, 720, 3)\n"
     ]
    },
    {
     "name": "stdout",
     "output_type": "stream",
     "text": [
      "/data/mio_tcd_seg/images/00048720.jpg\nShow (480, 720, 3)\n"
     ]
    },
    {
     "name": "stdout",
     "output_type": "stream",
     "text": [
      "/data/mio_tcd_seg/images/00037802.jpg\nShow (480, 720, 3)\n"
     ]
    },
    {
     "name": "stdout",
     "output_type": "stream",
     "text": [
      "/data/mio_tcd_seg/images/00010399.jpg\nShow (480, 720, 3)\n"
     ]
    }
   ],
   "source": [
    "import os\n",
    "import json\n",
    "%matplotlib inline\n",
    "import matplotlib.pyplot as plt\n",
    "import numpy as np\n",
    "import cv2\n",
    "pjoin = os.path.join\n",
    "path=\"/data/mio_tcd_seg/images/out/\"\n",
    "\n",
    "for k in os.listdir(path):\n",
    "    pt = pjoin(path,k)\n",
    "    img_pt = pjoin('/data/mio_tcd_seg/images',k[:-4]+'jpg')\n",
    "    print(img_pt)\n",
    "    img = cv2.cvtColor(cv2.imread(img_pt),cv2.COLOR_BGR2RGB)\n",
    "    boxes = json.load(open(pt))\n",
    "    if len(boxes) == 0:\n",
    "        continue\n",
    "    for box in boxes:\n",
    "        lbl = box['label']\n",
    "        conf = box['confidence']\n",
    "        bt_r = box['bottomright']\n",
    "        t_l = box['topleft']\n",
    "        angle = box['angle']\n",
    "        cx = (t_l['x'] + bt_r['x']) //2\n",
    "        cy = (t_l['y'] + bt_r['y']) //2\n",
    "        cv2.line(img,(cx,cy),(int(cx*np.cos(angle)*10),int(cy*np.sin(angle)*10)),(255,0,0),1)\n",
    "        cv2.rectangle(img,(t_l['x'],t_l['y']),(bt_r['x'],bt_r['y']),(0,255,0),1)\n",
    "    print(\"Show\",img.shape)\n",
    "    cv2.imshow('machin',img)\n",
    "    cv2.waitKey(1000)"
   ]
  },
  {
   "cell_type": "code",
   "execution_count": null,
   "metadata": {},
   "outputs": [],
   "source": [
    ""
   ]
  }
 ],
 "metadata": {
  "kernelspec": {
   "display_name": "Python 2",
   "language": "python",
   "name": "python2"
  },
  "language_info": {
   "codemirror_mode": {
    "name": "ipython",
    "version": 2.0
   },
   "file_extension": ".py",
   "mimetype": "text/x-python",
   "name": "python",
   "nbconvert_exporter": "python",
   "pygments_lexer": "ipython2",
   "version": "2.7.6"
  }
 },
 "nbformat": 4,
 "nbformat_minor": 0
}